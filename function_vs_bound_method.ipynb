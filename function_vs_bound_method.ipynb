{
 "cells": [
  {
   "cell_type": "code",
   "execution_count": 2,
   "metadata": {},
   "outputs": [
    {
     "name": "stdout",
     "output_type": "stream",
     "text": [
      "<class 'type'>\n",
      "<class '__main__.Test'>\n",
      "True\n"
     ]
    }
   ],
   "source": [
    "class Test:\n",
    "    pass\n",
    "\n",
    "my_obj = Test()\n",
    "print(type(Test))\n",
    "print(type(my_obj))\n",
    "print(isinstance(my_obj, Test))"
   ]
  },
  {
   "cell_type": "code",
   "execution_count": 12,
   "metadata": {},
   "outputs": [
    {
     "name": "stdout",
     "output_type": "stream",
     "text": [
      "3.8\n",
      "N/A\n",
      "Python\n",
      "3.8.1\n"
     ]
    }
   ],
   "source": [
    "class ProgrammingLanguage:\n",
    "    name = 'Python'\n",
    "    version = '3.8'\n",
    "    \n",
    "print(getattr(ProgrammingLanguage, 'version', 'N/A'))\n",
    "print(getattr(ProgrammingLanguage, 'year', 'N/A'))\n",
    "print(ProgrammingLanguage.name)\n",
    "setattr(ProgrammingLanguage, 'version', '3.8.1')\n",
    "print(getattr(ProgrammingLanguage, 'version', 'N/A'))"
   ]
  },
  {
   "cell_type": "code",
   "execution_count": 13,
   "metadata": {},
   "outputs": [
    {
     "data": {
      "text/plain": [
       "mappingproxy({'__module__': '__main__',\n",
       "              'name': 'Python',\n",
       "              'version': '3.8.1',\n",
       "              '__dict__': <attribute '__dict__' of 'ProgrammingLanguage' objects>,\n",
       "              '__weakref__': <attribute '__weakref__' of 'ProgrammingLanguage' objects>,\n",
       "              '__doc__': None})"
      ]
     },
     "execution_count": 13,
     "metadata": {},
     "output_type": "execute_result"
    }
   ],
   "source": [
    "ProgrammingLanguage.__dict__"
   ]
  },
  {
   "cell_type": "code",
   "execution_count": 14,
   "metadata": {},
   "outputs": [
    {
     "data": {
      "text/plain": [
       "mappingproxy({'__module__': '__main__',\n",
       "              'name': 'Python',\n",
       "              'version': '3.8.1',\n",
       "              '__dict__': <attribute '__dict__' of 'ProgrammingLanguage' objects>,\n",
       "              '__weakref__': <attribute '__weakref__' of 'ProgrammingLanguage' objects>,\n",
       "              '__doc__': None,\n",
       "              '_': 'test'})"
      ]
     },
     "execution_count": 14,
     "metadata": {},
     "output_type": "execute_result"
    }
   ],
   "source": [
    "setattr(ProgrammingLanguage, '_', 'test')\n",
    "ProgrammingLanguage.__dict__"
   ]
  },
  {
   "cell_type": "code",
   "execution_count": 15,
   "metadata": {},
   "outputs": [
    {
     "data": {
      "text/plain": [
       "mappingproxy({'__module__': '__main__',\n",
       "              'name': 'Python',\n",
       "              'version': '3.8.1',\n",
       "              '__dict__': <attribute '__dict__' of 'ProgrammingLanguage' objects>,\n",
       "              '__weakref__': <attribute '__weakref__' of 'ProgrammingLanguage' objects>,\n",
       "              '__doc__': None})"
      ]
     },
     "execution_count": 15,
     "metadata": {},
     "output_type": "execute_result"
    }
   ],
   "source": [
    "delattr(ProgrammingLanguage, '_')\n",
    "ProgrammingLanguage.__dict__"
   ]
  },
  {
   "cell_type": "code",
   "execution_count": 21,
   "metadata": {},
   "outputs": [
    {
     "name": "stdout",
     "output_type": "stream",
     "text": [
      "{'__module__': '__main__', 'name': 'Python', 'version': '3.8', 'get_version': <function ProgrammingLanguage.get_version at 0x10ed9ce60>, '__dict__': <attribute '__dict__' of 'ProgrammingLanguage' objects>, '__weakref__': <attribute '__weakref__' of 'ProgrammingLanguage' objects>, '__doc__': None}\n",
      "Version: 3.8\n",
      "Version: 3.8\n"
     ]
    }
   ],
   "source": [
    "class ProgrammingLanguage:\n",
    "    name = 'Python'\n",
    "    version = '3.8'\n",
    "    \n",
    "    def get_version():\n",
    "        return f'Version: {ProgrammingLanguage.version}'\n",
    "    \n",
    "print(ProgrammingLanguage.__dict__)\n",
    "print(ProgrammingLanguage.get_version())\n",
    "print(ProgrammingLanguage.__dict__['get_version']())"
   ]
  },
  {
   "cell_type": "code",
   "execution_count": 24,
   "metadata": {},
   "outputs": [
    {
     "name": "stdout",
     "output_type": "stream",
     "text": [
      "<class 'type'>\n",
      "True\n",
      "True\n"
     ]
    }
   ],
   "source": [
    "# fooling isinstance method\n",
    "class Test:\n",
    "    __class__ = int\n",
    "    pass\n",
    "\n",
    "obj = Test()\n",
    "print(type(Test))\n",
    "print(isinstance(obj, Test))\n",
    "print(isinstance(obj, int))"
   ]
  },
  {
   "cell_type": "code",
   "execution_count": 30,
   "metadata": {},
   "outputs": [
    {
     "name": "stdout",
     "output_type": "stream",
     "text": [
      "Python\n",
      "{}\n",
      "French\n"
     ]
    }
   ],
   "source": [
    "# instance & class attributes\n",
    "# python first look at instance, then class attributes\n",
    "class Language:\n",
    "    name = 'Python'\n",
    "    \n",
    "foreign_language = Language()\n",
    "print(foreign_language.name)\n",
    "print(foreign_language.__dict__)\n",
    "foreign_language.name = 'French'\n",
    "print(foreign_language.name)"
   ]
  },
  {
   "cell_type": "code",
   "execution_count": 52,
   "metadata": {},
   "outputs": [
    {
     "name": "stdout",
     "output_type": "stream",
     "text": [
      "<class 'function'>\n",
      "0x10edde290\n",
      "<class 'method'>\n"
     ]
    },
    {
     "ename": "TypeError",
     "evalue": "say_hello() takes 0 positional arguments but 1 was given",
     "output_type": "error",
     "traceback": [
      "\u001b[0;31m---------------------------------------------------------------------------\u001b[0m",
      "\u001b[0;31mTypeError\u001b[0m                                 Traceback (most recent call last)",
      "\u001b[0;32m<ipython-input-52-fa622ca75b45>\u001b[0m in \u001b[0;36m<module>\u001b[0;34m\u001b[0m\n\u001b[1;32m      8\u001b[0m \u001b[0mprint\u001b[0m\u001b[0;34m(\u001b[0m\u001b[0mtype\u001b[0m\u001b[0;34m(\u001b[0m\u001b[0ml\u001b[0m\u001b[0;34m.\u001b[0m\u001b[0msay_hello\u001b[0m\u001b[0;34m)\u001b[0m\u001b[0;34m)\u001b[0m\u001b[0;34m\u001b[0m\u001b[0;34m\u001b[0m\u001b[0m\n\u001b[1;32m      9\u001b[0m \u001b[0;34m\u001b[0m\u001b[0m\n\u001b[0;32m---> 10\u001b[0;31m \u001b[0mprint\u001b[0m\u001b[0;34m(\u001b[0m\u001b[0ml\u001b[0m\u001b[0;34m.\u001b[0m\u001b[0msay_hello\u001b[0m\u001b[0;34m(\u001b[0m\u001b[0;34m)\u001b[0m\u001b[0;34m)\u001b[0m\u001b[0;34m\u001b[0m\u001b[0;34m\u001b[0m\u001b[0m\n\u001b[0m\u001b[1;32m     11\u001b[0m \u001b[0;31m# l.say_hello() -> Language.say_hello(l)\u001b[0m\u001b[0;34m\u001b[0m\u001b[0;34m\u001b[0m\u001b[0;34m\u001b[0m\u001b[0m\n",
      "\u001b[0;31mTypeError\u001b[0m: say_hello() takes 0 positional arguments but 1 was given"
     ]
    }
   ],
   "source": [
    "class Language:\n",
    "    def say_hello():\n",
    "        return 'It says hello'\n",
    "    \n",
    "print(type(Language.say_hello))\n",
    "l = Language()\n",
    "print(hex(id(l)))\n",
    "print(type(l.say_hello))\n",
    "\n",
    "print(l.say_hello())\n",
    "# l.say_hello() -> Language.say_hello(l)"
   ]
  },
  {
   "cell_type": "code",
   "execution_count": 54,
   "metadata": {},
   "outputs": [
    {
     "name": "stdout",
     "output_type": "stream",
     "text": [
      "<class 'function'>\n",
      "<class 'method'>\n",
      "0x10cb98190\n",
      "I said hello(<__main__.Language object at 0x10cb98190>, (), {})\n",
      "I said hello(<__main__.Language object at 0x10cb98190>, ('Natiq', 'Aysu'), {'surname': 'Vahabov'})\n"
     ]
    }
   ],
   "source": [
    "class Language:\n",
    "    def say_hello(self, *args, **kwargs):\n",
    "        return f'I said hello{self, args, kwargs}'\n",
    "    \n",
    "print(type(Language.say_hello))\n",
    "print(type(l.say_hello))\n",
    "l = Language()\n",
    "print(hex(id(l)))\n",
    "\n",
    "print(l.say_hello())\n",
    "# l.say_hello() -> Language.say_hello(l)\n",
    "\n",
    "print(l.say_hello('Natiq', 'Aysu', surname='Vahabov'))"
   ]
  },
  {
   "cell_type": "code",
   "execution_count": null,
   "metadata": {},
   "outputs": [],
   "source": []
  }
 ],
 "metadata": {
  "kernelspec": {
   "display_name": "Python 3",
   "language": "python",
   "name": "python3"
  },
  "language_info": {
   "codemirror_mode": {
    "name": "ipython",
    "version": 3
   },
   "file_extension": ".py",
   "mimetype": "text/x-python",
   "name": "python",
   "nbconvert_exporter": "python",
   "pygments_lexer": "ipython3",
   "version": "3.7.4"
  }
 },
 "nbformat": 4,
 "nbformat_minor": 2
}
